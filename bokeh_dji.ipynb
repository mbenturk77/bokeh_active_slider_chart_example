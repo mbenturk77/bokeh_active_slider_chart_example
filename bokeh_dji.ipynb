{
 "cells": [
  {
   "cell_type": "markdown",
   "metadata": {},
   "source": [
    "# VISIULIZATION OF DJI WITH RSI,BOLLINGER BANDBY USING BOKEH SERVER"
   ]
  },
  {
   "cell_type": "code",
   "execution_count": 1,
   "metadata": {},
   "outputs": [],
   "source": [
    "import numpy as np\n",
    "import matplotlib.pyplot as plt\n",
    "import pandas as pd\n",
    "from scipy.stats import norm\n",
    "import ta\n",
    "from pandas_datareader import data\n",
    "from bokeh.io import output_file, show,curdoc\n",
    "from bokeh.plotting import figure\n",
    "from bokeh.models import HoverTool,ColumnDataSource,Slider\n",
    "from bokeh.layouts import row,column\n",
    "from bokeh.models.formatters import DatetimeTickFormatter\n",
    "import warnings\n",
    "warnings.filterwarnings('ignore')"
   ]
  },
  {
   "cell_type": "code",
   "execution_count": 2,
   "metadata": {},
   "outputs": [],
   "source": [
    "stock = '^DJI'\n",
    "start_date = '2019-07-01'\n",
    "end_date = '2020-07-01'\n",
    "\n",
    "df = data.DataReader(stock,'yahoo',start_date,end_date)\n",
    "df['Date'] =df.index"
   ]
  },
  {
   "cell_type": "code",
   "execution_count": 3,
   "metadata": {},
   "outputs": [],
   "source": [
    "\n",
    "N_rsi=11\n",
    "N_bb = 20\n",
    "N_mva = 20\n",
    "\n",
    "\n",
    "\n",
    "source = ColumnDataSource(data={'x':df['Date'],'y0': df['Adj Close'],'y1':df['Open'],'y2':df['High'],\n",
    "                                'y3':df['Low'],'y4':df['Volume'],'y5':df['Adj Close'].rolling(N_mva).mean(),'y6':ta.momentum.rsi(close=df['Adj Close'],n=N_rsi),\n",
    "                                'y7':(ta.volatility.BollingerBands(close=df[\"Adj Close\"], n=N_bb, ndev=2)).bollinger_mavg(),\n",
    "                          'y8':(ta.volatility.BollingerBands(close=df[\"Adj Close\"], n=N_bb, ndev=2)).bollinger_hband(),\n",
    "                                'y9':(ta.volatility.BollingerBands(close=df[\"Adj Close\"], n=N_bb, ndev=2)).bollinger_lband()})\n",
    "\n",
    "source1 = ColumnDataSource(data={'x':df['Date'],'y0': df['Adj Close'],'y1':df['Open'],'y2':df['High'],\n",
    "                                'y3':df['Low'],'y4':df['Volume'],'y5':df['Adj Close'].rolling(N_mva).mean(),'y6':ta.momentum.rsi(close=df['Adj Close'],n=N_rsi),\n",
    "                                'y7':(ta.volatility.BollingerBands(close=df[\"Adj Close\"], n=N_bb, ndev=2)).bollinger_mavg(),\n",
    "                          'y8':(ta.volatility.BollingerBands(close=df[\"Adj Close\"], n=N_bb, ndev=2)).bollinger_hband(),\n",
    "                                'y9':(ta.volatility.BollingerBands(close=df[\"Adj Close\"], n=N_bb, ndev=2)).bollinger_lband()})\n",
    "\n",
    "\n"
   ]
  },
  {
   "cell_type": "code",
   "execution_count": 4,
   "metadata": {},
   "outputs": [],
   "source": [
    "# Create plots and widgets\n",
    "fig1 = figure(title=stock+' Price & Technical Analysis',x_axis_type='datetime',x_axis_label='Date',y_axis_label='$',plot_width=1000, plot_height=700)\n",
    "plot1 = fig1.line('x','y0',source=source,legend_label='Adjusted Close')\n",
    "fig1.add_tools(HoverTool(renderers=[plot1],tooltips=[('Open','@y1'),('High','@y2'),('Low','@y3'),('Adjusted Close',\n",
    "                        '@y0'),('Volume', '@y4'),('Date','@x{%F}')],formatters={'@x': 'datetime'}))\n",
    "plot2 = fig1.line('x','y7',source=source,color='Brown',legend_label='moving Average')\n",
    "fig1.add_tools(HoverTool(renderers=[plot2],tooltips=[('Moving Average','@y7')]))\n",
    "\n",
    "\n",
    "plot3 = fig1.line('x','y8',source=source,color='Black',legend_label='Bolinger Band')\n",
    "fig1.add_tools(HoverTool(renderers=[plot3],tooltips=[('Bolinger Band','@y8')]))\n",
    "\n",
    "plot4 = fig1.line('x','y9',source=source,color='Black',legend_label='Bolinger Band')\n",
    "fig1.add_tools(HoverTool(renderers=[plot4],tooltips=[('Bolinger Band','@y9')]))\n",
    "\n",
    "fig1.legend.location = 'top_left'\n",
    "\n",
    "\n",
    "\n",
    "fig2 = figure(title=stock+' RSI',x_axis_type='datetime',x_axis_label='Date',y_axis_label='%',plot_width=1000, plot_height=700)\n",
    "\n",
    "plot5 = fig2.line('x','y6',source=source1,color='red',legend_label='RSI')\n",
    "fig2.add_tools(HoverTool(renderers=[plot5],tooltips=[('RSI','@y6')]))\n",
    "fig2.legend.location = 'top_left'\n",
    "\n",
    "\n",
    "\n"
   ]
  },
  {
   "cell_type": "code",
   "execution_count": 5,
   "metadata": {},
   "outputs": [],
   "source": [
    "# Add callback to widgets\n",
    "\n",
    "\n",
    "slider_rsi = Slider(start=1, end=200, value=N_rsi,step=1, title='Number of Days for Rolling(RSI)')\n",
    "slider_bb = Slider(start=1, end=50, value=N_bb,step=1, title='Number of Days for Rolling(Bolinger Band)')\n",
    "\n",
    "def callback(attr, old, new):\n",
    "    N_rsi = slider_rsi.value\n",
    "    source1.data={'x':df['Date'],'y0': df['Adj Close'],'y1':df['Open'],'y2':df['High'],\n",
    "                                'y3':df['Low'],'y4':df['Volume'],'y5':df['Adj Close'].rolling(N_mva).mean(),'y6':ta.momentum.rsi(close=df['Adj Close'],n=N_rsi),\n",
    "                                'y7':(ta.volatility.BollingerBands(close=df[\"Adj Close\"], n=N_bb, ndev=2)).bollinger_mavg(),\n",
    "                          'y8':(ta.volatility.BollingerBands(close=df[\"Adj Close\"], n=N_bb, ndev=2)).bollinger_hband(),\n",
    "                                'y9':(ta.volatility.BollingerBands(close=df[\"Adj Close\"], n=N_bb, ndev=2)).bollinger_lband()}\n",
    "\n",
    "def callback1(attr, old, new):\n",
    "    N_bb = slider_bb.value\n",
    "    source.data={'x':df['Date'],'y0': df['Adj Close'],'y1':df['Open'],'y2':df['High'],\n",
    "                                'y3':df['Low'],'y4':df['Volume'],'y5':df['Adj Close'].rolling(N_mva).mean(),'y6':ta.momentum.rsi(close=df['Adj Close'],n=N_rsi),\n",
    "                                'y7':(ta.volatility.BollingerBands(close=df[\"Adj Close\"], n=N_bb, ndev=2)).bollinger_mavg(),\n",
    "                          'y8':(ta.volatility.BollingerBands(close=df[\"Adj Close\"], n=N_bb, ndev=2)).bollinger_hband(),\n",
    "                                'y9':(ta.volatility.BollingerBands(close=df[\"Adj Close\"], n=N_bb, ndev=2)).bollinger_lband()}\n",
    "\n",
    "\n",
    "\n",
    "\n",
    "\n",
    "\n",
    "slider_rsi.on_change('value', callback)\n",
    "slider_bb.on_change('value', callback1)\n",
    "\n",
    "\n",
    "\n",
    "\n",
    "\n",
    "\n",
    "c = column(children =[fig1, fig2], sizing_mode = 'stretch_both')\n",
    "\n",
    "\n",
    "\n"
   ]
  },
  {
   "cell_type": "code",
   "execution_count": 6,
   "metadata": {},
   "outputs": [],
   "source": [
    "# Arrange plots and widgets in layouts\n",
    "\n",
    "layout = column(slider_rsi,slider_bb , c)\n",
    "\n",
    "\n",
    "curdoc().add_root(layout)"
   ]
  },
  {
   "cell_type": "code",
   "execution_count": null,
   "metadata": {},
   "outputs": [],
   "source": [
    "! bokeh serve --show bokeh_dji.ipynb"
   ]
  }
 ],
 "metadata": {
  "kernelspec": {
   "display_name": "Python 3",
   "language": "python",
   "name": "python3"
  },
  "language_info": {
   "codemirror_mode": {
    "name": "ipython",
    "version": 3
   },
   "file_extension": ".py",
   "mimetype": "text/x-python",
   "name": "python",
   "nbconvert_exporter": "python",
   "pygments_lexer": "ipython3",
   "version": "3.7.6"
  }
 },
 "nbformat": 4,
 "nbformat_minor": 4
}
